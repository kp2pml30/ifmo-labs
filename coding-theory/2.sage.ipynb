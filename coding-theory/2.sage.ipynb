{
 "cells": [
  {
   "cell_type": "code",
   "execution_count": null,
   "id": "77ddaf69",
   "metadata": {},
   "outputs": [],
   "source": []
  },
  {
   "cell_type": "code",
   "execution_count": 1,
   "id": "9f4f3b7e",
   "metadata": {},
   "outputs": [
    {
     "data": {
      "text/plain": [
       "[1 1 1 1 1 0 1 1 1 1]\n",
       "[1 1 1 1 0 0 0 0 1 0]\n",
       "[0 1 1 1 1 1 0 1 0 1]\n",
       "[1 0 0 1 1 0 0 0 0 1]\n",
       "[0 1 0 0 1 0 0 0 1 0]"
      ]
     },
     "execution_count": 1,
     "metadata": {},
     "output_type": "execute_result"
    }
   ],
   "source": [
    "Harr = [[int(e) for e in l] for l in filter(lambda x: x != \"\", \"\"\"\n",
    "    1111101111\n",
    "    1111000010\n",
    "    0111110101\n",
    "    1001100001\n",
    "    0100100010\n",
    "    \"\"\".split())]\n",
    "Harr\n",
    "H = matrix(GF(2), Harr)\n",
    "H"
   ]
  },
  {
   "cell_type": "code",
   "execution_count": 2,
   "id": "77380cae",
   "metadata": {},
   "outputs": [
    {
     "name": "stdout",
     "output_type": "stream",
     "text": [
      "n = 10\n"
     ]
    }
   ],
   "source": [
    "n = H.ncols()\n",
    "print(f'n = {n}')"
   ]
  },
  {
   "cell_type": "code",
   "execution_count": 3,
   "id": "d1074d71",
   "metadata": {},
   "outputs": [
    {
     "name": "stdout",
     "output_type": "stream",
     "text": [
      "k = 5\n"
     ]
    }
   ],
   "source": [
    "k = n - rank(H)\n",
    "print(f'k = {k}')"
   ]
  },
  {
   "cell_type": "code",
   "execution_count": 4,
   "id": "f33f2ba0",
   "metadata": {},
   "outputs": [
    {
     "name": "stdout",
     "output_type": "stream",
     "text": [
      "d = 2\n"
     ]
    }
   ],
   "source": [
    "def choose_from(d, n, *, i = 0, arr = []):\n",
    "    canTake = n - i\n",
    "    hasToTake = d - len(arr)\n",
    "    if canTake < hasToTake:\n",
    "        return\n",
    "    if len(arr) == d:\n",
    "        yield arr\n",
    "        return\n",
    "    yield from choose_from(d, n, i=i+1, arr=arr+[i])\n",
    "    yield from choose_from(d, n, i=i+1, arr=arr)\n",
    "\n",
    "d = None\n",
    "spaceToCheck = GF(2)^H.nrows()\n",
    "for di in range(1, H.ncols()):\n",
    "    ok = False\n",
    "    for c in choose_from(di, n):\n",
    "        cols = [H.column(i) for i in c]\n",
    "        ld = spaceToCheck.linear_dependence(cols)\n",
    "        if len(ld) != 0:\n",
    "            ok = True\n",
    "            break\n",
    "    if ok:\n",
    "        d = di\n",
    "        break\n",
    "print(f'd = {d}')"
   ]
  },
  {
   "cell_type": "code",
   "execution_count": 22,
   "id": "e8691e30",
   "metadata": {},
   "outputs": [
    {
     "name": "stdout",
     "output_type": "stream",
     "text": [
      "[1 0 0 0 0 1 1 0 1 0]\n",
      "[0 1 0 0 0 0 1 1 1 1]\n",
      "[0 0 1 0 0 0 0 0 0 1]\n",
      "[0 0 0 1 0 1 0 1 1 0]\n",
      "[0 0 0 0 1 0 1 1 0 1]\n",
      "\n",
      "[1 0 0 0 1 0 0 1 1 0]\n",
      "[0 1 0 0 0 0 1 1 1 0]\n",
      "[0 0 1 0 1 0 1 1 1 1]\n",
      "[0 0 0 1 1 0 1 0 1 0]\n",
      "[0 0 0 0 0 1 1 1 0 0]\n",
      "\n",
      "[1 0 0 0 1 0 0 1 1 0]\n",
      "[0 1 0 0 0 0 1 1 1 0]\n",
      "[0 0 1 0 1 0 1 1 1 1]\n",
      "[0 0 0 1 1 0 1 0 1 0]\n",
      "[0 0 0 0 0 1 1 1 0 0]\n"
     ]
    }
   ],
   "source": [
    "Hrref = H.rref()\n",
    "print(Hrref)\n",
    "print()\n",
    "\n",
    "G = block_matrix([[Hrref.submatrix(0, 5).T, matrix.identity(GF(2), Hrref.nrows())]], subdivide=False)\n",
    "# G = block_matrix([[matrix.identity(GF(2), Hrref.nrows()), Hrref.submatrix(0, 5).T]], subdivide=False)\n",
    "G = G.rref()\n",
    "print(G)\n",
    "print()\n",
    "print(G.rref())"
   ]
  },
  {
   "cell_type": "code",
   "execution_count": 23,
   "id": "3e97f7ea",
   "metadata": {},
   "outputs": [
    {
     "name": "stdout",
     "output_type": "stream",
     "text": [
      "G\n",
      "1000100110\n",
      "0100001110\n",
      "0010101111\n",
      "0001101010\n",
      "0000011100\n"
     ]
    }
   ],
   "source": [
    "print('G')\n",
    "for r in G:\n",
    "    for e in r:\n",
    "        print(e, end='')\n",
    "    print()"
   ]
  },
  {
   "cell_type": "code",
   "execution_count": 24,
   "id": "fb44d386",
   "metadata": {},
   "outputs": [
    {
     "name": "stdout",
     "output_type": "stream",
     "text": [
      "[1 0 0 0 1 0 0 1 1 0]\n",
      "[0 1 0 0 0 0 1 1 1 0]\n",
      "[0 0 1 0 1 0 1 1 1 1]\n",
      "[0 0 0 1 1 0 1 0 1 0]\n",
      "[0 0 0 0 0 1 1 1 0 0]\n",
      "\n",
      "[1 1 0 1 0]\n",
      "[1 1 1 0 1]\n",
      "[1 1 1 0 0]\n",
      "[1 1 1 1 0]\n",
      "[1 0 1 1 1]\n",
      "[0 0 1 0 0]\n",
      "[1 0 0 0 0]\n",
      "[1 0 1 0 0]\n",
      "[1 1 0 0 1]\n",
      "[1 0 1 1 0]\n",
      "\n",
      "G: 10x5\n",
      "H^T: 5x10\n"
     ]
    }
   ],
   "source": [
    "print(G)\n",
    "print()\n",
    "print(H.T)\n",
    "print()\n",
    "print(f'G: {G.ncols()}x{G.nrows()}')\n",
    "print(f'H^T: {H.T.ncols()}x{H.T.nrows()}')"
   ]
  },
  {
   "cell_type": "code",
   "execution_count": 25,
   "id": "43a1f785",
   "metadata": {},
   "outputs": [
    {
     "name": "stdout",
     "output_type": "stream",
     "text": [
      "k = 5 = 5\n",
      "n = 10 = 10\n",
      "[0 0 0 0 0]\n",
      "[0 0 0 0 0]\n",
      "[0 0 0 0 0]\n",
      "[0 0 0 0 0]\n",
      "[0 0 0 0 0]\n"
     ]
    }
   ],
   "source": [
    "print(f'k = {k} = {G.nrows()}')\n",
    "print(f'n = {n} = {G.ncols()}')\n",
    "assert G.nrows() == k\n",
    "assert G.ncols() == n\n",
    "print(G * H.T)\n",
    "assert G * H.T == 0"
   ]
  },
  {
   "cell_type": "code",
   "execution_count": 26,
   "id": "39d023fe",
   "metadata": {},
   "outputs": [
    {
     "name": "stdout",
     "output_type": "stream",
     "text": [
      "[(0, 0, 0, 0, 0), (1, 0, 0, 0, 0), (0, 1, 0, 0, 0), (1, 1, 0, 0, 0), (0, 0, 1, 0, 0), (1, 0, 1, 0, 0), (0, 1, 1, 0, 0), (1, 1, 1, 0, 0), (0, 0, 0, 1, 0), (1, 0, 0, 1, 0), (0, 1, 0, 1, 0), (1, 1, 0, 1, 0), (0, 0, 1, 1, 0), (1, 0, 1, 1, 0), (0, 1, 1, 1, 0), (1, 1, 1, 1, 0), (0, 0, 0, 0, 1), (1, 0, 0, 0, 1), (0, 1, 0, 0, 1), (1, 1, 0, 0, 1), (0, 0, 1, 0, 1), (1, 0, 1, 0, 1), (0, 1, 1, 0, 1), (1, 1, 1, 0, 1), (0, 0, 0, 1, 1), (1, 0, 0, 1, 1), (0, 1, 0, 1, 1), (1, 1, 0, 1, 1), (0, 0, 1, 1, 1), (1, 0, 1, 1, 1), (0, 1, 1, 1, 1), (1, 1, 1, 1, 1)]\n"
     ]
    }
   ],
   "source": [
    "import re\n",
    "syndromsStr = \"\"\"\n",
    "и таблицу стандартной расстановки T[00000]=Ответ\n",
    "\n",
    "T[10000]=Ответ\n",
    "\n",
    "T[01000]=Ответ\n",
    "\n",
    "T[11000]=Ответ\n",
    "\n",
    "T[00100]=Ответ\n",
    "\n",
    "T[10100]=Ответ\n",
    "\n",
    "T[01100]=Ответ\n",
    "\n",
    "T[11100]=Ответ\n",
    "\n",
    "T[00010]=Ответ\n",
    "\n",
    "T[10010]=Ответ\n",
    "\n",
    "T[01010]=Ответ\n",
    "\n",
    "T[11010]=Ответ\n",
    "\n",
    "T[00110]=Ответ\n",
    "\n",
    "T[10110]=Ответ\n",
    "\n",
    "T[01110]=Ответ\n",
    "\n",
    "T[11110]=Ответ\n",
    "\n",
    "T[00001]=Ответ\n",
    "\n",
    "T[10001]=Ответ\n",
    "\n",
    "T[01001]=Ответ\n",
    "\n",
    "T[11001]=Ответ\n",
    "\n",
    "T[00101]=Ответ\n",
    "\n",
    "T[10101]=Ответ\n",
    "\n",
    "T[01101]=Ответ\n",
    "\n",
    "T[11101]=Ответ\n",
    "\n",
    "T[00011]=Ответ\n",
    "\n",
    "T[10011]=Ответ\n",
    "\n",
    "T[01011]=Ответ\n",
    "\n",
    "T[11011]=Ответ\n",
    "\n",
    "T[00111]=Ответ\n",
    "\n",
    "T[10111]=Ответ\n",
    "\n",
    "T[01111]=Ответ\n",
    "\n",
    "T[11111]=Ответ\n",
    "\"\"\"\n",
    "syndroms = [vector(GF(2), [int(e) for e in l]) for l in re.sub(r'[^0-9\\n]', ' ', syndromsStr).split()]\n",
    "print(syndroms)"
   ]
  },
  {
   "cell_type": "code",
   "execution_count": 27,
   "id": "d96ad853",
   "metadata": {},
   "outputs": [],
   "source": [
    "def gen_bits(n, *, i = 0, arr = []):\n",
    "    if i == n:\n",
    "        yield arr\n",
    "        return\n",
    "    yield from gen_bits(n, i=i+1, arr=arr+[1])\n",
    "    yield from gen_bits(n, i=i+1, arr=arr+[0])\n",
    "errs = [(vector(GF(2), x), sum(x)) for x in gen_bits(H.ncols())]"
   ]
  },
  {
   "cell_type": "code",
   "execution_count": 28,
   "id": "4642a486",
   "metadata": {},
   "outputs": [
    {
     "data": {
      "text/plain": [
       "{(1, 1, 1, 0, 1): ((0, 1, 0, 0, 0, 0, 0, 0, 0, 0), 1),\n",
       " (0, 1, 0, 1, 1): ((0, 1, 0, 0, 0, 0, 0, 0, 0, 1), 2),\n",
       " (0, 0, 1, 0, 0): ((0, 0, 0, 0, 0, 1, 0, 0, 0, 0), 1),\n",
       " (1, 0, 0, 1, 0): ((0, 0, 0, 0, 0, 1, 0, 0, 0, 1), 2),\n",
       " (0, 1, 0, 0, 1): ((0, 1, 0, 0, 0, 0, 0, 1, 0, 0), 2),\n",
       " (1, 1, 1, 1, 1): ((1, 0, 1, 0, 0, 0, 0, 0, 1, 0), 3),\n",
       " (1, 0, 0, 0, 0): ((0, 0, 0, 0, 0, 0, 1, 0, 0, 0), 1),\n",
       " (0, 0, 1, 1, 0): ((1, 0, 1, 0, 0, 0, 0, 0, 0, 0), 2),\n",
       " (0, 1, 1, 0, 1): ((1, 0, 0, 0, 1, 0, 0, 0, 0, 0), 2),\n",
       " (1, 1, 0, 1, 1): ((1, 1, 1, 0, 0, 0, 0, 0, 0, 0), 3),\n",
       " (1, 0, 1, 0, 0): ((0, 0, 0, 0, 0, 0, 0, 1, 0, 0), 1),\n",
       " (0, 0, 0, 1, 0): ((0, 0, 1, 1, 0, 0, 0, 0, 0, 0), 2),\n",
       " (1, 1, 0, 0, 1): ((0, 0, 0, 0, 0, 0, 0, 0, 1, 0), 1),\n",
       " (0, 1, 1, 1, 1): ((0, 0, 0, 0, 0, 0, 0, 0, 1, 1), 2),\n",
       " (0, 0, 0, 0, 0): ((0, 0, 0, 0, 0, 0, 0, 0, 0, 0), 0),\n",
       " (1, 0, 1, 1, 0): ((0, 0, 0, 0, 0, 0, 0, 0, 0, 1), 1),\n",
       " (0, 1, 0, 1, 0): ((1, 0, 0, 0, 0, 0, 1, 0, 0, 0), 2),\n",
       " (1, 1, 1, 0, 0): ((0, 0, 1, 0, 0, 0, 0, 0, 0, 0), 1),\n",
       " (1, 0, 0, 1, 1): ((0, 0, 0, 0, 1, 1, 0, 0, 0, 0), 2),\n",
       " (0, 0, 1, 0, 1): ((0, 0, 1, 0, 0, 0, 0, 0, 1, 0), 2),\n",
       " (1, 1, 1, 1, 0): ((0, 0, 0, 1, 0, 0, 0, 0, 0, 0), 1),\n",
       " (0, 1, 0, 0, 0): ((0, 0, 1, 0, 0, 0, 0, 1, 0, 0), 2),\n",
       " (0, 0, 1, 1, 1): ((1, 1, 0, 0, 0, 0, 0, 0, 0, 0), 2),\n",
       " (1, 0, 0, 0, 1): ((1, 1, 0, 0, 0, 0, 0, 0, 0, 1), 3),\n",
       " (1, 1, 0, 1, 0): ((1, 0, 0, 0, 0, 0, 0, 0, 0, 0), 1),\n",
       " (0, 1, 1, 0, 0): ((1, 0, 0, 0, 0, 0, 0, 0, 0, 1), 2),\n",
       " (0, 0, 0, 1, 1): ((1, 0, 0, 0, 0, 0, 0, 0, 1, 0), 2),\n",
       " (1, 0, 1, 0, 1): ((1, 0, 0, 0, 0, 0, 0, 0, 1, 1), 3),\n",
       " (0, 1, 1, 1, 0): ((1, 0, 0, 0, 0, 0, 0, 1, 0, 0), 2),\n",
       " (1, 1, 0, 0, 0): ((0, 0, 1, 0, 0, 1, 0, 0, 0, 0), 2),\n",
       " (1, 0, 1, 1, 1): ((0, 0, 0, 0, 1, 0, 0, 0, 0, 0), 1),\n",
       " (0, 0, 0, 0, 1): ((0, 1, 1, 0, 0, 0, 0, 0, 0, 0), 2)}"
      ]
     },
     "execution_count": 28,
     "metadata": {},
     "output_type": "execute_result"
    }
   ],
   "source": [
    "syndromErrors = {}\n",
    "HT = H.T\n",
    "for s in errs:\n",
    "    a = s[0] * HT\n",
    "    # aw = sum([int(x) for x in a])\n",
    "    key = tuple(a)\n",
    "    old = syndromErrors.setdefault(key, s)\n",
    "    if old[1] > s[1]:\n",
    "        syndromErrors[key] = s\n",
    "syndromErrors"
   ]
  },
  {
   "cell_type": "code",
   "execution_count": 31,
   "id": "d7d756fd",
   "metadata": {},
   "outputs": [
    {
     "name": "stdout",
     "output_type": "stream",
     "text": [
      "00000: 0000000000\n",
      "10000: 0000001000\n",
      "01000: 0010000100\n",
      "11000: 0010010000\n",
      "00100: 0000010000\n",
      "10100: 0000000100\n",
      "01100: 1000000001\n",
      "11100: 0010000000\n",
      "00010: 0011000000\n",
      "10010: 0000010001\n",
      "01010: 1000001000\n",
      "11010: 1000000000\n",
      "00110: 1010000000\n",
      "10110: 0000000001\n",
      "01110: 1000000100\n",
      "11110: 0001000000\n",
      "00001: 0110000000\n",
      "10001: 1100000001\n",
      "01001: 0100000100\n",
      "11001: 0000000010\n",
      "00101: 0010000010\n",
      "10101: 1000000011\n",
      "01101: 1000100000\n",
      "11101: 0100000000\n",
      "00011: 1000000010\n",
      "10011: 0000110000\n",
      "01011: 0100000001\n",
      "11011: 1110000000\n",
      "00111: 1100000000\n",
      "10111: 0000100000\n",
      "01111: 0000000011\n",
      "11111: 1010000010\n"
     ]
    }
   ],
   "source": [
    "for s in syndroms:\n",
    "    #print('# ', end='')\n",
    "    for i in s:\n",
    "        print(i, end='')\n",
    "    print(': ', end='')\n",
    "    e = syndromErrors[tuple(s)][0]\n",
    "    for i in e:\n",
    "        print(i, end='')\n",
    "    print()"
   ]
  }
 ],
 "metadata": {
  "kernelspec": {
   "display_name": "SageMath 9.7",
   "language": "sage",
   "name": "sagemath"
  },
  "language_info": {
   "codemirror_mode": {
    "name": "ipython",
    "version": 3
   },
   "file_extension": ".py",
   "mimetype": "text/x-python",
   "name": "python",
   "nbconvert_exporter": "python",
   "pygments_lexer": "ipython3",
   "version": "3.10.7"
  }
 },
 "nbformat": 4,
 "nbformat_minor": 5
}
