{
 "cells": [
  {
   "cell_type": "markdown",
   "id": "7e7fce93",
   "metadata": {},
   "source": [
    "$a$ корень $x^5+x^2+1$ mod $2$"
   ]
  },
  {
   "cell_type": "code",
   "execution_count": 4,
   "id": "af381285",
   "metadata": {},
   "outputs": [],
   "source": [
    "def task1_P(x):\n",
    "    return x^5 + x^2 + 1\n",
    "\n",
    "def task1_calc(a):\n",
    "    return a^20 / (a^14 * a^15 + 1)"
   ]
  },
  {
   "cell_type": "code",
   "execution_count": 6,
   "id": "163660d9",
   "metadata": {},
   "outputs": [
    {
     "data": {
      "text/plain": [
       "a^4 + a + 1"
      ]
     },
     "execution_count": 6,
     "metadata": {},
     "output_type": "execute_result"
    }
   ],
   "source": [
    "F = GF(2)\n",
    "X.<x> = F[]\n",
    "modulus = task1_P(x)\n",
    "\n",
    "t1_deg = modulus.degree()\n",
    "\n",
    "K.<a> = GF(F.cardinality()^modulus.degree(), name='a', modulus=modulus)\n",
    "task1_calc(a)"
   ]
  },
  {
   "cell_type": "code",
   "execution_count": 3,
   "id": "c3f9b9df",
   "metadata": {},
   "outputs": [
    {
     "data": {
      "text/plain": [
       "a^4 + a + 1"
      ]
     },
     "execution_count": 3,
     "metadata": {},
     "output_type": "execute_result"
    }
   ],
   "source": [
    "R = PolynomialRing(GF(2), 'x')\n",
    "x = R.gen()\n",
    "S = R.quotient(task1_P(x), 'a')\n",
    "a = S.gen()\n",
    "task1_calc(a)"
   ]
  },
  {
   "cell_type": "code",
   "execution_count": 8,
   "id": "b9f0c80e",
   "metadata": {},
   "outputs": [
    {
     "name": "stdout",
     "output_type": "stream",
     "text": [
      "5\n",
      "1 0b10\n",
      "2 0b100\n",
      "3 0b1000\n",
      "4 0b10000\n",
      "5 0b101\n",
      "6 0b1010\n",
      "7 0b10100\n",
      "8 0b1101\n",
      "9 0b11010\n",
      "10 0b10001\n",
      "11 0b111\n",
      "12 0b1110\n",
      "13 0b11100\n",
      "14 0b11101\n",
      "15 0b11111\n",
      "16 0b11011\n",
      "17 0b10011\n",
      "18 0b11\n",
      "19 0b110\n",
      "20 0b1100\n",
      "21 0b11000\n",
      "22 0b10101\n",
      "23 0b1111\n",
      "24 0b11110\n",
      "25 0b11001\n",
      "26 0b10111\n",
      "27 0b1011\n",
      "28 0b10110\n",
      "29 0b1001\n",
      "30 0b10010\n",
      "31 0b1\n"
     ]
    }
   ],
   "source": [
    "print(t1_deg)\n",
    "x = 2\n",
    "for i in range(1, 2^t1_deg):\n",
    "    assert i != 2^t1_deg - 1 or x == 1\n",
    "    print(i, bin(x))\n",
    "    x = x * 2\n",
    "    if x >= 2^t1_deg: x ^^= task1_P(2)"
   ]
  },
  {
   "cell_type": "markdown",
   "id": "55dc222e",
   "metadata": {},
   "source": [
    "Calculate $\\frac{\\operatorname{dividend}}{\\operatorname{divisor}} \\operatorname{mod} \\operatorname{modulus}$"
   ]
  },
  {
   "cell_type": "code",
   "execution_count": null,
   "id": "b1eae67a",
   "metadata": {},
   "outputs": [],
   "source": [
    "def task2_dividend(x):\n",
    "    return x^9 + x^8 + x^7 + x^5 + x^3\n",
    "def task2_divisor(x):\n",
    "    return x^9 + x^8 + x^5 + x^4 + x + 1\n",
    "def task2_modulus(x):\n",
    "    return x^10 + x^9 + x^8 + x^7 + x^6 + x^2 + 1"
   ]
  },
  {
   "cell_type": "code",
   "execution_count": null,
   "id": "dd1d7105",
   "metadata": {},
   "outputs": [],
   "source": [
    "X.<x> = GF(2)[]\n",
    "dividend = task2_dividend(x)\n",
    "divisor = task2_divisor(x)\n",
    "modulus = task2_modulus(x)\n",
    "\n",
    "inversed_divisor = xgcd(modulus, divisor)[2]\n",
    "result = dividend * inversed_divisor % modulus\n",
    "result"
   ]
  },
  {
   "cell_type": "code",
   "execution_count": null,
   "id": "f12a8398",
   "metadata": {},
   "outputs": [],
   "source": [
    "R = PolynomialRing(GF(2), 'x')\n",
    "x = R.gen()\n",
    "Q = R.quotient(task2_modulus(x), 'b')\n",
    "b = Q.gen()\n",
    "task2_dividend(x)/task2_divisor(b)"
   ]
  }
 ],
 "metadata": {
  "kernelspec": {
   "display_name": "SageMath 9.7",
   "language": "sage",
   "name": "sagemath"
  },
  "language_info": {
   "codemirror_mode": {
    "name": "ipython",
    "version": 3
   },
   "file_extension": ".py",
   "mimetype": "text/x-python",
   "name": "python",
   "nbconvert_exporter": "python",
   "pygments_lexer": "ipython3",
   "version": "3.10.8"
  }
 },
 "nbformat": 4,
 "nbformat_minor": 5
}
