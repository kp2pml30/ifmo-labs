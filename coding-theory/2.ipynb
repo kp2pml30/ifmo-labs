{
 "cells": [
  {
   "cell_type": "code",
   "execution_count": 55,
   "id": "b50cb968",
   "metadata": {},
   "outputs": [],
   "source": [
    "{-# LANGUAGE\n",
    "    DataKinds,\n",
    "    TypeOperators,\n",
    "    TypeFamilies\n",
    " #-}\n",
    "import Data.Function\n",
    "-- import qualified Data.Matrix as M\n",
    "import qualified Numeric.LinearAlgebra as M\n",
    "import Numeric.LinearAlgebra.Data (type (./.))"
   ]
  },
  {
   "cell_type": "code",
   "execution_count": 3,
   "id": "c2b92232",
   "metadata": {},
   "outputs": [
    {
     "data": {
      "text/plain": [
       "True"
      ]
     },
     "metadata": {},
     "output_type": "display_data"
    }
   ],
   "source": [
    "hStr = \"1111101111\\n1111000010\\n0111110101\\n1001100001\\n0100100010\"\n",
    "hLst = fmap (read . (:[])) <$> lines hStr :: [[Int]]\n",
    "\n",
    "all (((==) `on` length) $ head hLst) hLst"
   ]
  },
  {
   "cell_type": "code",
   "execution_count": 58,
   "id": "97f3c9a7",
   "metadata": {},
   "outputs": [
    {
     "data": {
      "text/plain": [
       "(5><10)\n",
       " [ 1, 1, 1, 1, 1, 0, 1, 1, 1, 1\n",
       " , 1, 1, 1, 1, 0, 0, 0, 0, 1, 0\n",
       " , 0, 1, 1, 1, 1, 1, 0, 1, 0, 1\n",
       " , 1, 0, 0, 1, 1, 0, 0, 0, 0, 1\n",
       " , 0, 1, 0, 0, 1, 0, 0, 0, 1, 0 ]"
      ]
     },
     "metadata": {},
     "output_type": "display_data"
    }
   ],
   "source": [
    "\n",
    "h :: M.Matrix (M.I ./. 2)\n",
    "h = M.fromLists $ fmap fromIntegral <$> hLst\n",
    "h"
   ]
  },
  {
   "cell_type": "code",
   "execution_count": 60,
   "id": "14034590",
   "metadata": {},
   "outputs": [
    {
     "data": {
      "text/plain": [
       "n = 10"
      ]
     },
     "metadata": {},
     "output_type": "display_data"
    }
   ],
   "source": [
    "putStrLn $ \"n = \" ++ show (M.cols h)"
   ]
  },
  {
   "cell_type": "code",
   "execution_count": 62,
   "id": "7b7f0d0b",
   "metadata": {},
   "outputs": [
    {
     "data": {
      "text/plain": [
       "n - k = rank(H)"
      ]
     },
     "metadata": {},
     "output_type": "display_data"
    },
    {
     "ename": "",
     "evalue": "",
     "output_type": "error",
     "traceback": [
      "<interactive>:1:1: error:\n    • No instance for (M.Field (M.I ./. 2)) arising from a use of ‘M.rank’\n    • In the expression: M.rank h\n      In an equation for ‘it’: it = M.rank h"
     ]
    }
   ],
   "source": [
    "putStrLn \"n - k = rank(H)\"\n",
    "M.rank h"
   ]
  },
  {
   "cell_type": "code",
   "execution_count": 7,
   "id": "e37b5c04",
   "metadata": {},
   "outputs": [],
   "source": [
    "newtype GF2 = GF2 Int deriving (Eq, Ord)\n",
    "\n",
    "instance Show GF2 where\n",
    "    show (GF2 a) = show a\n",
    "\n",
    "instance Num GF2 where\n",
    "    (GF2 a) + (GF2 b) = GF2 $ (a + b) `mod` 2\n",
    "    (GF2 a) * (GF2 b) = GF2 $ (a * b) `mod` 2\n",
    "    fromInteger = GF2 . fromInteger\n",
    "    negate = id\n",
    "    abs = error \"abs\"\n",
    "instance Fractional GF2 where\n",
    "    (GF2 a) / (GF2 b) = GF2 $ a `div` b"
   ]
  },
  {
   "cell_type": "code",
   "execution_count": 8,
   "id": "e7824727",
   "metadata": {},
   "outputs": [
    {
     "ename": "",
     "evalue": "",
     "output_type": "error",
     "traceback": [
      "<interactive>:1:1: error: Not in scope: ‘M.rref’"
     ]
    }
   ],
   "source": [
    "M.rref $ GF2 <$> h"
   ]
  },
  {
   "cell_type": "code",
   "execution_count": null,
   "id": "a4919037",
   "metadata": {},
   "outputs": [],
   "source": []
  }
 ],
 "metadata": {
  "kernelspec": {
   "display_name": "Haskell",
   "language": "haskell",
   "name": "haskell"
  },
  "language_info": {
   "codemirror_mode": "ihaskell",
   "file_extension": ".hs",
   "mimetype": "text/x-haskell",
   "name": "haskell",
   "pygments_lexer": "Haskell",
   "version": "9.0.2"
  }
 },
 "nbformat": 4,
 "nbformat_minor": 5
}
