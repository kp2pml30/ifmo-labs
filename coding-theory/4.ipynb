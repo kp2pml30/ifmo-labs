{
 "cells": [
  {
   "cell_type": "code",
   "execution_count": 27,
   "id": "4661f81b",
   "metadata": {},
   "outputs": [],
   "source": [
    "import numpy as np"
   ]
  },
  {
   "cell_type": "code",
   "execution_count": 40,
   "id": "952143a3",
   "metadata": {},
   "outputs": [
    {
     "data": {
      "text/plain": [
       "[0 0 1 0 1 0 0 0 1 1 0 0 0 1 0 1]\n",
       "[0 1 0 0 0 0 0 0 1 1 0 0 1 1 1 0]\n",
       "[1 0 1 0 0 0 0 0 0 1 0 0 0 1 1 0]\n",
       "[0 0 0 1 0 0 0 0 1 0 1 0 0 1 1 0]\n",
       "[0 0 0 1 0 0 0 0 1 0 0 1 1 0 0 1]\n",
       "[0 0 1 1 0 1 0 0 1 0 0 0 0 0 1 1]\n",
       "[0 0 0 1 0 0 1 0 0 1 0 0 1 0 1 1]\n",
       "[0 0 1 0 0 0 0 1 1 0 0 0 1 1 1 1]"
      ]
     },
     "execution_count": 40,
     "metadata": {},
     "output_type": "execute_result"
    }
   ],
   "source": [
    "G0 = \"\"\"\n",
    "0 0 0 0 1 0 0 1 1 0 1 1 1 0 0 0\n",
    "0 1 0 1 0 0 0 0 1 0 1 0 1 0 0 1\n",
    "0 0 0 1 0 0 0 0 0 1 1 1 1 0 0 0\n",
    "1 0 0 1 0 1 0 0 1 0 1 0 0 0 0 0\n",
    "1 0 0 0 0 0 0 1 1 0 0 0 0 0 1 1\n",
    "1 0 0 1 0 0 0 1 1 0 0 1 0 1 0 0\n",
    "1 0 0 1 0 0 1 1 0 0 0 0 1 0 0 1\n",
    "0 0 1 1 0 0 0 1 1 0 1 1 0 0 0 1\n",
    "\"\"\"\n",
    "G = matrix(GF(2), [[int(e) for e in s.split()] for s in G0.split('\\n') if s != \"\"])\n",
    "G"
   ]
  },
  {
   "cell_type": "code",
   "execution_count": 41,
   "id": "7c13d88d",
   "metadata": {},
   "outputs": [
    {
     "data": {
      "text/plain": [
       "(1, 0, 0, 0, 1, 0, 0, 0, 1, 0, 1, 1, 0, 1, 1, 0)"
      ]
     },
     "execution_count": 41,
     "metadata": {},
     "output_type": "execute_result"
    }
   ],
   "source": [
    "Y0 = \"1 0 0 0 1 0 0 0 1 0 1 1 0 1 1 0\"\n",
    "Y = vector(int(i) for i in Y0.split())\n",
    "Y"
   ]
  },
  {
   "cell_type": "code",
   "execution_count": 42,
   "id": "2b7d4495",
   "metadata": {},
   "outputs": [
    {
     "data": {
      "text/plain": [
       "[1 0 0 0 0 0 0 1 1 1 0 0 1 0 0 1]\n",
       "[0 1 0 0 0 0 0 0 1 1 0 0 1 1 1 0]\n",
       "[0 0 1 0 0 0 0 1 1 0 0 0 1 1 1 1]\n",
       "[0 0 0 1 0 0 0 0 1 0 0 1 1 0 0 1]\n",
       "[0 0 0 0 1 0 0 1 0 1 0 0 1 0 1 0]\n",
       "[0 0 0 0 0 1 0 1 1 0 0 1 0 1 0 1]\n",
       "[0 0 0 0 0 0 1 0 1 1 0 1 0 0 1 0]\n",
       "[0 0 0 0 0 0 0 0 0 0 1 1 1 1 1 1]"
      ]
     },
     "execution_count": 42,
     "metadata": {},
     "output_type": "execute_result"
    }
   ],
   "source": [
    "Gsp0 = G.rref()\n",
    "Gsp0"
   ]
  },
  {
   "cell_type": "code",
   "execution_count": 43,
   "id": "6fbdcedb",
   "metadata": {},
   "outputs": [
    {
     "data": {
      "text/plain": [
       "[1 1 1 1 1 1 0 0 1 1 0 0 1 1 1 0]\n",
       "[0 1 0 1 0 1 1 1 0 0 0 1 0 0 0 0]\n",
       "[0 0 1 0 0 1 1 0 1 1 1 1 0 1 1 1]\n",
       "[0 0 0 1 1 0 0 1 1 1 1 0 1 1 0 0]\n",
       "[0 0 0 0 1 0 0 1 0 1 0 0 1 0 1 0]\n",
       "[0 0 0 0 0 1 0 1 1 0 0 1 0 1 0 1]\n",
       "[0 0 0 0 0 0 1 0 1 1 1 0 1 1 0 1]\n",
       "[0 0 0 0 0 0 0 0 0 0 1 1 1 1 1 1]"
      ]
     },
     "execution_count": 43,
     "metadata": {},
     "output_type": "execute_result"
    }
   ],
   "source": [
    "Gsp = copy(Gsp0)\n",
    "Gsp.add_multiple_of_row(0, 7, 1)\n",
    "Gsp.add_multiple_of_row(3, 7, 1)\n",
    "Gsp.add_multiple_of_row(6, 7, 1)\n",
    "Gsp.add_multiple_of_row(1, 6, 1)\n",
    "Gsp.add_multiple_of_row(2, 6, 1)\n",
    "Gsp.add_multiple_of_row(0, 5, 1)\n",
    "Gsp.add_multiple_of_row(1, 5, 1)\n",
    "Gsp.add_multiple_of_row(2, 5, 1)\n",
    "Gsp.add_multiple_of_row(0, 4, 1)\n",
    "Gsp.add_multiple_of_row(1, 4, 1)\n",
    "Gsp.add_multiple_of_row(3, 4, 1)\n",
    "Gsp.add_multiple_of_row(0, 2, 1)\n",
    "\n",
    "Gsp.add_multiple_of_row(1, 3, 1)\n",
    "Gsp.add_multiple_of_row(0, 1, 1)\n",
    "Gsp"
   ]
  },
  {
   "cell_type": "code",
   "execution_count": 44,
   "id": "7e4db14b",
   "metadata": {},
   "outputs": [
    {
     "data": {
      "text/plain": [
       "[0, 1, 2, 3, 4, 5, 6, 7, 7, 7, 7, 8, 7, 7, 6, 4, 0]"
      ]
     },
     "execution_count": 44,
     "metadata": {},
     "output_type": "execute_result"
    }
   ],
   "source": [
    "def doJ(colI, line):\n",
    "    ll = list(line)\n",
    "    f1 = ll.index(1)\n",
    "    ll.reverse()\n",
    "    l1 = len(ll) - 1 - ll.index(1)\n",
    "    if f1 <= colI and colI < l1:\n",
    "        return 1\n",
    "    else:\n",
    "        return 0\n",
    "Vi = [sum([doJ(colI, i) for i in Gsp.rows()]) for colI in range(Gsp.ncols())]\n",
    "[0] + Vi"
   ]
  },
  {
   "cell_type": "code",
   "execution_count": 45,
   "id": "f8adc96b",
   "metadata": {},
   "outputs": [],
   "source": [
    "def gen_bits(n, *, i = 0, arr = []):\n",
    "    if i == n:\n",
    "        yield arr\n",
    "        return\n",
    "    yield from gen_bits(n, i=i+1, arr=arr+[1])\n",
    "    yield from gen_bits(n, i=i+1, arr=arr+[0])"
   ]
  },
  {
   "cell_type": "code",
   "execution_count": 46,
   "id": "a4cb569d",
   "metadata": {},
   "outputs": [
    {
     "name": "stdout",
     "output_type": "stream",
     "text": [
      "also (1, 0, 1, 1, 1, 0, 1, 0) with 4\n",
      "Found best 2 on (1, 0, 1, 1, 1, 0, 0, 0)\n",
      "(1, 0, 0, 0, 1, 0, 0, 0, 1, 0, 1, 1, 0, 1, 1, 0)\n",
      "(1, 0, 0, 0, 1, 0, 0, 0, 1, 0, 1, 1, 1, 1, 0, 0)\n"
     ]
    }
   ],
   "source": [
    "npy = np.array(Y)\n",
    "bestVect, bestDist = None, None\n",
    "for e in gen_bits(G.nrows()):\n",
    "    v = vector(GF(2), e)\n",
    "    r = v * G\n",
    "    dist = np.sum(np.array(r) != npy)\n",
    "    if bestDist is None or dist < bestDist:\n",
    "        bestDist = dist\n",
    "        bestVect = v\n",
    "    elif dist == bestDist:\n",
    "        print(f'also {v} with {dist}')\n",
    "print(f'Found best {bestDist} on {bestVect}')\n",
    "print(Y)\n",
    "print(bestVect * G)\n",
    "# print('(1, 1, 0, 1, 1, 1, 1, 1, 0, 1, 0, 1, 0, 1, 0, 0)')"
   ]
  }
 ],
 "metadata": {
  "kernelspec": {
   "display_name": "SageMath 9.7",
   "language": "sage",
   "name": "sagemath"
  },
  "language_info": {
   "codemirror_mode": {
    "name": "ipython",
    "version": 3
   },
   "file_extension": ".py",
   "mimetype": "text/x-python",
   "name": "python",
   "nbconvert_exporter": "python",
   "pygments_lexer": "ipython3",
   "version": "3.10.7"
  }
 },
 "nbformat": 4,
 "nbformat_minor": 5
}
